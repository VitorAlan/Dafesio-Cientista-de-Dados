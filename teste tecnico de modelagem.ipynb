{
 "cells": [
  {
   "cell_type": "markdown",
   "metadata": {},
   "source": [
    "<b>Teste técnico de modelagem</b>"
   ]
  },
  {
   "cell_type": "markdown",
   "metadata": {},
   "source": [
    "Nessa parte, será necessário implementar um algoritmo de acordo com o paradigma do problema. Cada problema tem um conjunto de métricas que são requeridas. A variável alvo sempre será a coluna de nome “target”, exceto para os problemas não-supervisionados."
   ]
  },
  {
   "cell_type": "markdown",
   "metadata": {},
   "source": [
    "O trecho a seguir se trata das bibliotecas que seram utilizadas para realizar o teste técnico de modelagem."
   ]
  },
  {
   "cell_type": "code",
   "execution_count": 1,
   "metadata": {},
   "outputs": [],
   "source": [
    "import pandas as pd\n",
    "import numpy as np\n",
    "import matplotlib.pyplot as plt\n",
    "import warnings\n",
    "warnings.filterwarnings(\"ignore\")"
   ]
  },
  {
   "cell_type": "markdown",
   "metadata": {},
   "source": [
    "1. Construa um classificador e identifique quais variáveis exercem maior impacto sobre o “target” e informe o porquê interpretando os resultados obtidos. \n",
    "    1. métricas: precision, recall e F1-score;\n",
    "    2. dados: classification_data."
   ]
  },
  {
   "cell_type": "code",
   "execution_count": 2,
   "metadata": {},
   "outputs": [
    {
     "data": {
      "text/html": [
       "<div>\n",
       "<style scoped>\n",
       "    .dataframe tbody tr th:only-of-type {\n",
       "        vertical-align: middle;\n",
       "    }\n",
       "\n",
       "    .dataframe tbody tr th {\n",
       "        vertical-align: top;\n",
       "    }\n",
       "\n",
       "    .dataframe thead th {\n",
       "        text-align: right;\n",
       "    }\n",
       "</style>\n",
       "<table border=\"1\" class=\"dataframe\">\n",
       "  <thead>\n",
       "    <tr style=\"text-align: right;\">\n",
       "      <th></th>\n",
       "      <th>x1</th>\n",
       "      <th>x2</th>\n",
       "      <th>target</th>\n",
       "    </tr>\n",
       "  </thead>\n",
       "  <tbody>\n",
       "    <tr>\n",
       "      <th>0</th>\n",
       "      <td>1.934224</td>\n",
       "      <td>-0.111822</td>\n",
       "      <td>1</td>\n",
       "    </tr>\n",
       "    <tr>\n",
       "      <th>1</th>\n",
       "      <td>1.767383</td>\n",
       "      <td>-0.976402</td>\n",
       "      <td>1</td>\n",
       "    </tr>\n",
       "    <tr>\n",
       "      <th>2</th>\n",
       "      <td>0.937101</td>\n",
       "      <td>-0.085633</td>\n",
       "      <td>1</td>\n",
       "    </tr>\n",
       "    <tr>\n",
       "      <th>3</th>\n",
       "      <td>1.340732</td>\n",
       "      <td>0.166960</td>\n",
       "      <td>1</td>\n",
       "    </tr>\n",
       "    <tr>\n",
       "      <th>4</th>\n",
       "      <td>-0.199901</td>\n",
       "      <td>-0.155204</td>\n",
       "      <td>1</td>\n",
       "    </tr>\n",
       "  </tbody>\n",
       "</table>\n",
       "</div>"
      ],
      "text/plain": [
       "         x1        x2  target\n",
       "0  1.934224 -0.111822       1\n",
       "1  1.767383 -0.976402       1\n",
       "2  0.937101 -0.085633       1\n",
       "3  1.340732  0.166960       1\n",
       "4 -0.199901 -0.155204       1"
      ]
     },
     "execution_count": 2,
     "metadata": {},
     "output_type": "execute_result"
    }
   ],
   "source": [
    "treino = pd.read_csv(\"./classification_data/classification_train.csv\") \n",
    "teste = pd.read_csv(\"./classification_data/classification_test.csv\")\n",
    "treino.head(5)"
   ]
  },
  {
   "cell_type": "code",
   "execution_count": 3,
   "metadata": {},
   "outputs": [],
   "source": [
    "X_treino = treino.drop(\"target\",axis=1)\n",
    "Y_treino = treino['target']\n",
    "X_teste = teste.drop(\"target\",axis=1)\n",
    "Y_teste = teste[\"target\"]"
   ]
  },
  {
   "cell_type": "markdown",
   "metadata": {},
   "source": [
    "Para avaliar a classificação, irei utilizar 4 classificadores distintos: K-NN, K-Means, Decision Tree e MLP."
   ]
  },
  {
   "cell_type": "markdown",
   "metadata": {},
   "source": [
    "<b>K-NN</b>"
   ]
  },
  {
   "cell_type": "code",
   "execution_count": 4,
   "metadata": {},
   "outputs": [],
   "source": [
    "from sklearn.neighbors import KNeighborsClassifier\n",
    "knn = KNeighborsClassifier(n_neighbors=7)\n",
    "knn.fit(X_treino,Y_treino)\n",
    "pred = knn.predict(X_teste)\n"
   ]
  },
  {
   "cell_type": "code",
   "execution_count": 5,
   "metadata": {},
   "outputs": [
    {
     "name": "stdout",
     "output_type": "stream",
     "text": [
      "Precision: 0.8554216867469879\n",
      "Recall: 0.8819875776397516\n",
      "F1-Score: 0.8685015290519877\n"
     ]
    }
   ],
   "source": [
    "from sklearn.metrics import precision_score, recall_score, f1_score\n",
    "recall = recall_score(Y_teste,pred)\n",
    "precision = precision_score(Y_teste,pred)\n",
    "f1 = f1_score(Y_teste,pred)\n",
    "print(\"Precision:\",precision)\n",
    "print(\"Recall:\",recall)\n",
    "print(\"F1-Score:\",f1)"
   ]
  },
  {
   "cell_type": "markdown",
   "metadata": {},
   "source": [
    "<b>K-Means</b>"
   ]
  },
  {
   "cell_type": "code",
   "execution_count": 6,
   "metadata": {},
   "outputs": [],
   "source": [
    "from sklearn.cluster import KMeans\n",
    "kmeans = KMeans(n_clusters=2).fit(X_treino,Y_treino)\n",
    "pred = kmeans.predict(X_teste)"
   ]
  },
  {
   "cell_type": "code",
   "execution_count": 7,
   "metadata": {},
   "outputs": [
    {
     "name": "stdout",
     "output_type": "stream",
     "text": [
      "Precision: 0.7409638554216867\n",
      "Recall: 0.7639751552795031\n",
      "F1-Score: 0.7522935779816513\n"
     ]
    }
   ],
   "source": [
    "recall = recall_score(Y_teste,pred)\n",
    "precision = precision_score(Y_teste,pred)\n",
    "f1 = f1_score(Y_teste,pred)\n",
    "print(\"Precision:\",precision)\n",
    "print(\"Recall:\",recall)\n",
    "print(\"F1-Score:\",f1)"
   ]
  },
  {
   "cell_type": "markdown",
   "metadata": {},
   "source": [
    "<b>Decision Tree</b>"
   ]
  },
  {
   "cell_type": "code",
   "execution_count": 8,
   "metadata": {},
   "outputs": [],
   "source": [
    "from sklearn.tree import DecisionTreeClassifier\n",
    "tree = DecisionTreeClassifier()\n",
    "tree.fit(X_treino,Y_treino)\n",
    "pred = tree.predict(X_teste)"
   ]
  },
  {
   "cell_type": "code",
   "execution_count": 9,
   "metadata": {},
   "outputs": [
    {
     "name": "stdout",
     "output_type": "stream",
     "text": [
      "Precision: 0.8322981366459627\n",
      "Recall: 0.8322981366459627\n",
      "F1-Score: 0.8322981366459627\n"
     ]
    }
   ],
   "source": [
    "recall = recall_score(Y_teste,pred)\n",
    "precision = precision_score(Y_teste,pred)\n",
    "f1 = f1_score(Y_teste,pred)\n",
    "print(\"Precision:\",precision)\n",
    "print(\"Recall:\",recall)\n",
    "print(\"F1-Score:\",f1)"
   ]
  },
  {
   "cell_type": "markdown",
   "metadata": {},
   "source": [
    "<b>MLP</b>"
   ]
  },
  {
   "cell_type": "code",
   "execution_count": 10,
   "metadata": {},
   "outputs": [],
   "source": [
    "from sklearn.neural_network import MLPClassifier\n",
    "MLP = MLPClassifier(max_iter=300).fit(X_treino, Y_treino)\n",
    "pred = MLP.predict(X_teste)"
   ]
  },
  {
   "cell_type": "code",
   "execution_count": 11,
   "metadata": {},
   "outputs": [
    {
     "name": "stdout",
     "output_type": "stream",
     "text": [
      "Precision: 0.8554216867469879\n",
      "Recall: 0.8819875776397516\n",
      "F1-Score: 0.8685015290519877\n"
     ]
    }
   ],
   "source": [
    "recall = recall_score(Y_teste,pred)\n",
    "precision = precision_score(Y_teste,pred)\n",
    "f1 = f1_score(Y_teste,pred)\n",
    "print(\"Precision:\",precision)\n",
    "print(\"Recall:\",recall)\n",
    "print(\"F1-Score:\",f1)"
   ]
  },
  {
   "cell_type": "markdown",
   "metadata": {},
   "source": [
    "Segundo o seguinte trecho de código da Decision Tree:"
   ]
  },
  {
   "cell_type": "code",
   "execution_count": 12,
   "metadata": {},
   "outputs": [
    {
     "data": {
      "text/plain": [
       "array([0.43332822, 0.56667178])"
      ]
     },
     "execution_count": 12,
     "metadata": {},
     "output_type": "execute_result"
    }
   ],
   "source": [
    "tree.feature_importances_"
   ]
  },
  {
   "cell_type": "markdown",
   "metadata": {},
   "source": [
    "O atributo \"x_2\" tem maior importância para a classificação dos dados do que o atributo \"x_1\". Além disso também é plausível interpretar essa informação através da descrição de estatísticas dos atributos dos conjuntos de dados, segue o exemplo:"
   ]
  },
  {
   "cell_type": "code",
   "execution_count": 13,
   "metadata": {},
   "outputs": [
    {
     "data": {
      "text/html": [
       "<div>\n",
       "<style scoped>\n",
       "    .dataframe tbody tr th:only-of-type {\n",
       "        vertical-align: middle;\n",
       "    }\n",
       "\n",
       "    .dataframe tbody tr th {\n",
       "        vertical-align: top;\n",
       "    }\n",
       "\n",
       "    .dataframe thead th {\n",
       "        text-align: right;\n",
       "    }\n",
       "</style>\n",
       "<table border=\"1\" class=\"dataframe\">\n",
       "  <thead>\n",
       "    <tr style=\"text-align: right;\">\n",
       "      <th></th>\n",
       "      <th>x1</th>\n",
       "      <th>x2</th>\n",
       "    </tr>\n",
       "  </thead>\n",
       "  <tbody>\n",
       "    <tr>\n",
       "      <th>count</th>\n",
       "      <td>670.000000</td>\n",
       "      <td>670.000000</td>\n",
       "    </tr>\n",
       "    <tr>\n",
       "      <th>mean</th>\n",
       "      <td>0.481824</td>\n",
       "      <td>0.262611</td>\n",
       "    </tr>\n",
       "    <tr>\n",
       "      <th>std</th>\n",
       "      <td>0.914772</td>\n",
       "      <td>0.615023</td>\n",
       "    </tr>\n",
       "    <tr>\n",
       "      <th>min</th>\n",
       "      <td>-1.939767</td>\n",
       "      <td>-1.313970</td>\n",
       "    </tr>\n",
       "    <tr>\n",
       "      <th>25%</th>\n",
       "      <td>-0.169615</td>\n",
       "      <td>-0.159189</td>\n",
       "    </tr>\n",
       "    <tr>\n",
       "      <th>50%</th>\n",
       "      <td>0.492489</td>\n",
       "      <td>0.275538</td>\n",
       "    </tr>\n",
       "    <tr>\n",
       "      <th>75%</th>\n",
       "      <td>1.159680</td>\n",
       "      <td>0.717589</td>\n",
       "    </tr>\n",
       "    <tr>\n",
       "      <th>max</th>\n",
       "      <td>2.590410</td>\n",
       "      <td>1.904169</td>\n",
       "    </tr>\n",
       "  </tbody>\n",
       "</table>\n",
       "</div>"
      ],
      "text/plain": [
       "               x1          x2\n",
       "count  670.000000  670.000000\n",
       "mean     0.481824    0.262611\n",
       "std      0.914772    0.615023\n",
       "min     -1.939767   -1.313970\n",
       "25%     -0.169615   -0.159189\n",
       "50%      0.492489    0.275538\n",
       "75%      1.159680    0.717589\n",
       "max      2.590410    1.904169"
      ]
     },
     "execution_count": 13,
     "metadata": {},
     "output_type": "execute_result"
    }
   ],
   "source": [
    "X_treino.describe()"
   ]
  },
  {
   "cell_type": "markdown",
   "metadata": {},
   "source": [
    "Pois o valor tem um desvio padrão menor, o que faz com que seja mais estável e assim, facilita a criação de divisores entre os dados a serem classificados."
   ]
  },
  {
   "cell_type": "markdown",
   "metadata": {},
   "source": [
    "2. Selecione um sku (produto) e realize uma previsão da demanda do mesmo nos próximos 4 intervalos de tempo de sua escolha (dia, semana, mês, etc).\n",
    "    1. métricas: rmse, mape;\n",
    "    2. dados: time_series_data.xlsx."
   ]
  },
  {
   "cell_type": "markdown",
   "metadata": {},
   "source": [
    "<b>As previsões serão realizadas todas com um intervalo de 1 semana entre si</b>"
   ]
  },
  {
   "cell_type": "markdown",
   "metadata": {},
   "source": [
    "Para realizar a previsão, converti o arquivo xlsx para csv"
   ]
  },
  {
   "cell_type": "code",
   "execution_count": 14,
   "metadata": {},
   "outputs": [],
   "source": [
    "produtos = pd.read_csv(\"time_series_data.csv\")"
   ]
  },
  {
   "cell_type": "code",
   "execution_count": 15,
   "metadata": {},
   "outputs": [
    {
     "data": {
      "text/html": [
       "<div>\n",
       "<style scoped>\n",
       "    .dataframe tbody tr th:only-of-type {\n",
       "        vertical-align: middle;\n",
       "    }\n",
       "\n",
       "    .dataframe tbody tr th {\n",
       "        vertical-align: top;\n",
       "    }\n",
       "\n",
       "    .dataframe thead th {\n",
       "        text-align: right;\n",
       "    }\n",
       "</style>\n",
       "<table border=\"1\" class=\"dataframe\">\n",
       "  <thead>\n",
       "    <tr style=\"text-align: right;\">\n",
       "      <th></th>\n",
       "      <th>produto_descricao</th>\n",
       "      <th>produto_quantidade</th>\n",
       "      <th>produto_unidade_comercial</th>\n",
       "      <th>produto_valor_unitario_comercializacao</th>\n",
       "      <th>nota_data_emissao</th>\n",
       "    </tr>\n",
       "  </thead>\n",
       "  <tbody>\n",
       "    <tr>\n",
       "      <th>0</th>\n",
       "      <td>A0</td>\n",
       "      <td>23568</td>\n",
       "      <td>UN</td>\n",
       "      <td>14,13</td>\n",
       "      <td>20210420</td>\n",
       "    </tr>\n",
       "    <tr>\n",
       "      <th>1</th>\n",
       "      <td>A0</td>\n",
       "      <td>25082</td>\n",
       "      <td>UN</td>\n",
       "      <td>14,13</td>\n",
       "      <td>20210420</td>\n",
       "    </tr>\n",
       "    <tr>\n",
       "      <th>2</th>\n",
       "      <td>A0</td>\n",
       "      <td>25430</td>\n",
       "      <td>UN</td>\n",
       "      <td>14,13</td>\n",
       "      <td>20210922</td>\n",
       "    </tr>\n",
       "    <tr>\n",
       "      <th>3</th>\n",
       "      <td>A0</td>\n",
       "      <td>25463</td>\n",
       "      <td>UN</td>\n",
       "      <td>12,84</td>\n",
       "      <td>20210209</td>\n",
       "    </tr>\n",
       "    <tr>\n",
       "      <th>4</th>\n",
       "      <td>A0</td>\n",
       "      <td>25800</td>\n",
       "      <td>UN</td>\n",
       "      <td>12,84</td>\n",
       "      <td>20210209</td>\n",
       "    </tr>\n",
       "  </tbody>\n",
       "</table>\n",
       "</div>"
      ],
      "text/plain": [
       "  produto_descricao  produto_quantidade produto_unidade_comercial  \\\n",
       "0                A0               23568                        UN   \n",
       "1                A0               25082                        UN   \n",
       "2                A0               25430                        UN   \n",
       "3                A0               25463                        UN   \n",
       "4                A0               25800                        UN   \n",
       "\n",
       "  produto_valor_unitario_comercializacao  nota_data_emissao  \n",
       "0                                  14,13           20210420  \n",
       "1                                  14,13           20210420  \n",
       "2                                  14,13           20210922  \n",
       "3                                  12,84           20210209  \n",
       "4                                  12,84           20210209  "
      ]
     },
     "execution_count": 15,
     "metadata": {},
     "output_type": "execute_result"
    }
   ],
   "source": [
    "produtos.head(5)"
   ]
  },
  {
   "cell_type": "code",
   "execution_count": 16,
   "metadata": {},
   "outputs": [
    {
     "data": {
      "text/plain": [
       "(4460, 5)"
      ]
     },
     "execution_count": 16,
     "metadata": {},
     "output_type": "execute_result"
    }
   ],
   "source": [
    "produtos.shape"
   ]
  },
  {
   "cell_type": "markdown",
   "metadata": {},
   "source": [
    "Para escolher algum dos itens, irei observar quantos itens únicos existem na base de dados:"
   ]
  },
  {
   "cell_type": "code",
   "execution_count": 17,
   "metadata": {},
   "outputs": [
    {
     "data": {
      "text/plain": [
       "32"
      ]
     },
     "execution_count": 17,
     "metadata": {},
     "output_type": "execute_result"
    }
   ],
   "source": [
    "len(np.unique(produtos['produto_descricao']))"
   ]
  },
  {
   "cell_type": "code",
   "execution_count": 46,
   "metadata": {},
   "outputs": [
    {
     "data": {
      "text/plain": [
       "9"
      ]
     },
     "execution_count": 46,
     "metadata": {},
     "output_type": "execute_result"
    }
   ],
   "source": [
    "import random\n",
    "produto_id = random.randint(0,32)\n",
    "produto_id"
   ]
  },
  {
   "cell_type": "code",
   "execution_count": 47,
   "metadata": {},
   "outputs": [
    {
     "data": {
      "text/plain": [
       "'A9'"
      ]
     },
     "execution_count": 47,
     "metadata": {},
     "output_type": "execute_result"
    }
   ],
   "source": [
    "escolha = np.unique(produtos['produto_descricao'])[produto_id]\n",
    "escolha"
   ]
  },
  {
   "cell_type": "code",
   "execution_count": 48,
   "metadata": {},
   "outputs": [],
   "source": [
    "produto_escolhido = produtos[produtos['produto_descricao']==escolha]"
   ]
  },
  {
   "cell_type": "code",
   "execution_count": 49,
   "metadata": {},
   "outputs": [
    {
     "data": {
      "text/html": [
       "<div>\n",
       "<style scoped>\n",
       "    .dataframe tbody tr th:only-of-type {\n",
       "        vertical-align: middle;\n",
       "    }\n",
       "\n",
       "    .dataframe tbody tr th {\n",
       "        vertical-align: top;\n",
       "    }\n",
       "\n",
       "    .dataframe thead th {\n",
       "        text-align: right;\n",
       "    }\n",
       "</style>\n",
       "<table border=\"1\" class=\"dataframe\">\n",
       "  <thead>\n",
       "    <tr style=\"text-align: right;\">\n",
       "      <th></th>\n",
       "      <th>produto_descricao</th>\n",
       "      <th>produto_quantidade</th>\n",
       "      <th>produto_unidade_comercial</th>\n",
       "      <th>produto_valor_unitario_comercializacao</th>\n",
       "      <th>nota_data_emissao</th>\n",
       "    </tr>\n",
       "  </thead>\n",
       "  <tbody>\n",
       "    <tr>\n",
       "      <th>48</th>\n",
       "      <td>A9</td>\n",
       "      <td>1</td>\n",
       "      <td>UN</td>\n",
       "      <td>145,58</td>\n",
       "      <td>20210923</td>\n",
       "    </tr>\n",
       "    <tr>\n",
       "      <th>49</th>\n",
       "      <td>A9</td>\n",
       "      <td>2</td>\n",
       "      <td>UN</td>\n",
       "      <td>145,58</td>\n",
       "      <td>20210908</td>\n",
       "    </tr>\n",
       "    <tr>\n",
       "      <th>50</th>\n",
       "      <td>A9</td>\n",
       "      <td>5</td>\n",
       "      <td>UN</td>\n",
       "      <td>145,58</td>\n",
       "      <td>20210707</td>\n",
       "    </tr>\n",
       "    <tr>\n",
       "      <th>51</th>\n",
       "      <td>A9</td>\n",
       "      <td>20</td>\n",
       "      <td>UN</td>\n",
       "      <td>132,25</td>\n",
       "      <td>20210228</td>\n",
       "    </tr>\n",
       "    <tr>\n",
       "      <th>221</th>\n",
       "      <td>A9</td>\n",
       "      <td>2</td>\n",
       "      <td>UN</td>\n",
       "      <td>136,14</td>\n",
       "      <td>20210919</td>\n",
       "    </tr>\n",
       "    <tr>\n",
       "      <th>...</th>\n",
       "      <td>...</td>\n",
       "      <td>...</td>\n",
       "      <td>...</td>\n",
       "      <td>...</td>\n",
       "      <td>...</td>\n",
       "    </tr>\n",
       "    <tr>\n",
       "      <th>4386</th>\n",
       "      <td>A9</td>\n",
       "      <td>10</td>\n",
       "      <td>UN</td>\n",
       "      <td>123,67</td>\n",
       "      <td>20201210</td>\n",
       "    </tr>\n",
       "    <tr>\n",
       "      <th>4393</th>\n",
       "      <td>A9</td>\n",
       "      <td>5</td>\n",
       "      <td>UN</td>\n",
       "      <td>134,11</td>\n",
       "      <td>20201001</td>\n",
       "    </tr>\n",
       "    <tr>\n",
       "      <th>4399</th>\n",
       "      <td>A9</td>\n",
       "      <td>5</td>\n",
       "      <td>UN</td>\n",
       "      <td>132,25</td>\n",
       "      <td>20201208</td>\n",
       "    </tr>\n",
       "    <tr>\n",
       "      <th>4400</th>\n",
       "      <td>A9</td>\n",
       "      <td>10</td>\n",
       "      <td>UN</td>\n",
       "      <td>132,25</td>\n",
       "      <td>20210125</td>\n",
       "    </tr>\n",
       "    <tr>\n",
       "      <th>4421</th>\n",
       "      <td>A9</td>\n",
       "      <td>2</td>\n",
       "      <td>UN</td>\n",
       "      <td>134,11</td>\n",
       "      <td>20201211</td>\n",
       "    </tr>\n",
       "  </tbody>\n",
       "</table>\n",
       "<p>141 rows × 5 columns</p>\n",
       "</div>"
      ],
      "text/plain": [
       "     produto_descricao  produto_quantidade produto_unidade_comercial  \\\n",
       "48                  A9                   1                        UN   \n",
       "49                  A9                   2                        UN   \n",
       "50                  A9                   5                        UN   \n",
       "51                  A9                  20                        UN   \n",
       "221                 A9                   2                        UN   \n",
       "...                ...                 ...                       ...   \n",
       "4386                A9                  10                        UN   \n",
       "4393                A9                   5                        UN   \n",
       "4399                A9                   5                        UN   \n",
       "4400                A9                  10                        UN   \n",
       "4421                A9                   2                        UN   \n",
       "\n",
       "     produto_valor_unitario_comercializacao  nota_data_emissao  \n",
       "48                                   145,58           20210923  \n",
       "49                                   145,58           20210908  \n",
       "50                                   145,58           20210707  \n",
       "51                                   132,25           20210228  \n",
       "221                                  136,14           20210919  \n",
       "...                                     ...                ...  \n",
       "4386                                 123,67           20201210  \n",
       "4393                                 134,11           20201001  \n",
       "4399                                 132,25           20201208  \n",
       "4400                                 132,25           20210125  \n",
       "4421                                 134,11           20201211  \n",
       "\n",
       "[141 rows x 5 columns]"
      ]
     },
     "execution_count": 49,
     "metadata": {},
     "output_type": "execute_result"
    }
   ],
   "source": [
    "produto_escolhido"
   ]
  },
  {
   "cell_type": "markdown",
   "metadata": {},
   "source": [
    "<b>Para a predição vamos testar 2 possibilidades: 1- Regressão Linear; 2-LSTM.</b>"
   ]
  },
  {
   "cell_type": "markdown",
   "metadata": {},
   "source": [
    "<b>1. Regressão Linear</b>"
   ]
  },
  {
   "cell_type": "markdown",
   "metadata": {},
   "source": [
    "Agora com os dados já processados, vamos retirar os dados relevantes para a tarefa (data, valor do produto) e o target (quantidade)"
   ]
  },
  {
   "cell_type": "code",
   "execution_count": 50,
   "metadata": {},
   "outputs": [],
   "source": [
    "produto_escolhido = produto_escolhido.sort_values(by=['nota_data_emissao'])\n",
    "dados = produto_escolhido['produto_valor_unitario_comercializacao'].apply(lambda x: float(str(x).replace(\",\",\".\")))\n",
    "target = produto_escolhido[\"produto_quantidade\"]\n",
    "#dados = np.array(dados).reshape(-1,1)"
   ]
  },
  {
   "cell_type": "code",
   "execution_count": 51,
   "metadata": {},
   "outputs": [],
   "source": [
    "from sklearn import preprocessing\n",
    "\n",
    "x = np.array(dados).reshape(-1,1)\n",
    "min_max_scaler = preprocessing.MinMaxScaler()\n",
    "x_scaled = min_max_scaler.fit_transform(x)\n",
    "dados = pd.DataFrame(x_scaled)"
   ]
  },
  {
   "cell_type": "code",
   "execution_count": 52,
   "metadata": {},
   "outputs": [
    {
     "data": {
      "text/html": [
       "<div>\n",
       "<style scoped>\n",
       "    .dataframe tbody tr th:only-of-type {\n",
       "        vertical-align: middle;\n",
       "    }\n",
       "\n",
       "    .dataframe tbody tr th {\n",
       "        vertical-align: top;\n",
       "    }\n",
       "\n",
       "    .dataframe thead th {\n",
       "        text-align: right;\n",
       "    }\n",
       "</style>\n",
       "<table border=\"1\" class=\"dataframe\">\n",
       "  <thead>\n",
       "    <tr style=\"text-align: right;\">\n",
       "      <th></th>\n",
       "      <th>0</th>\n",
       "    </tr>\n",
       "  </thead>\n",
       "  <tbody>\n",
       "    <tr>\n",
       "      <th>0</th>\n",
       "      <td>0.857441</td>\n",
       "    </tr>\n",
       "    <tr>\n",
       "      <th>1</th>\n",
       "      <td>0.021236</td>\n",
       "    </tr>\n",
       "    <tr>\n",
       "      <th>2</th>\n",
       "      <td>0.021236</td>\n",
       "    </tr>\n",
       "    <tr>\n",
       "      <th>3</th>\n",
       "      <td>0.021236</td>\n",
       "    </tr>\n",
       "    <tr>\n",
       "      <th>4</th>\n",
       "      <td>0.021236</td>\n",
       "    </tr>\n",
       "  </tbody>\n",
       "</table>\n",
       "</div>"
      ],
      "text/plain": [
       "          0\n",
       "0  0.857441\n",
       "1  0.021236\n",
       "2  0.021236\n",
       "3  0.021236\n",
       "4  0.021236"
      ]
     },
     "execution_count": 52,
     "metadata": {},
     "output_type": "execute_result"
    }
   ],
   "source": [
    "dados.head(5)"
   ]
  },
  {
   "cell_type": "code",
   "execution_count": 53,
   "metadata": {},
   "outputs": [],
   "source": [
    "X_treino = dados[0:len(dados)-4]\n",
    "Y_treino = target[0:len(dados)-4]\n",
    "X_teste = dados[len(dados)-4:]\n",
    "Y_teste = target[len(dados)-4:]"
   ]
  },
  {
   "cell_type": "code",
   "execution_count": 54,
   "metadata": {},
   "outputs": [],
   "source": [
    "X_treino = np.array(X_treino).reshape(-1,1)\n",
    "X_teste = np.array(X_teste).reshape(-1,1)"
   ]
  },
  {
   "cell_type": "code",
   "execution_count": 55,
   "metadata": {},
   "outputs": [],
   "source": [
    "from sklearn.linear_model import LinearRegression\n",
    "regressao = LinearRegression().fit(X_treino,Y_treino)\n",
    "pred = regressao.predict(X_teste)"
   ]
  },
  {
   "cell_type": "code",
   "execution_count": 56,
   "metadata": {},
   "outputs": [
    {
     "data": {
      "text/plain": [
       "array([13.434415])"
      ]
     },
     "execution_count": 56,
     "metadata": {},
     "output_type": "execute_result"
    }
   ],
   "source": [
    "regressao.coef_"
   ]
  },
  {
   "cell_type": "code",
   "execution_count": 57,
   "metadata": {},
   "outputs": [
    {
     "name": "stdout",
     "output_type": "stream",
     "text": [
      "RMSE: 393.74852906369597\n",
      "MAPE: 8.313017813205224\n"
     ]
    }
   ],
   "source": [
    "from sklearn.metrics import mean_squared_error, mean_absolute_percentage_error\n",
    "print(\"RMSE:\",mean_squared_error(Y_teste, pred))\n",
    "print(\"MAPE:\",mean_absolute_percentage_error(Y_teste, pred))"
   ]
  },
  {
   "cell_type": "code",
   "execution_count": 58,
   "metadata": {},
   "outputs": [
    {
     "data": {
      "image/png": "[encoded data removed]",
      "text/plain": [
       "<Figure size 640x480 with 1 Axes>"
      ]
     },
     "metadata": {},
     "output_type": "display_data"
    },
    {
     "data": {
      "image/png": "[encoded data removed]",
      "text/plain": [
       "<Figure size 640x480 with 1 Axes>"
      ]
     },
     "metadata": {},
     "output_type": "display_data"
    }
   ],
   "source": [
    "x = [i for i in range(len(X_teste))]\n",
    "plt.plot(x,Y_teste)\n",
    "plt.show()\n",
    "plt.plot(x,pred)\n",
    "plt.show()"
   ]
  },
  {
   "cell_type": "markdown",
   "metadata": {},
   "source": [
    "<b>2.LSTM</b>"
   ]
  },
  {
   "cell_type": "code",
   "execution_count": 59,
   "metadata": {},
   "outputs": [],
   "source": [
    "from keras.models import Sequential\n",
    "from keras.layers import LSTM\n",
    "from keras.layers import Dense\n",
    "\n",
    "def split_sequence(sequence, n_steps):\n",
    "\tX, y = list(), list()\n",
    "\tfor i in range(len(sequence)):\n",
    "\t\tend_ix = i + n_steps\n",
    "\t\tif end_ix > len(sequence)-1:\n",
    "\t\t\tbreak\n",
    "\t\tseq_x, seq_y = sequence[i:end_ix], sequence[end_ix]\n",
    "\t\tX.append(seq_x)\n",
    "\t\ty.append(seq_y)\n",
    "\treturn np.array(X), np.array(y)\n",
    "\n",
    "raw_seq = np.array(target)\n",
    "n_steps = 3\n",
    "X, y = split_sequence(raw_seq, n_steps)\n",
    "n_features = 1\n",
    "X = X.reshape((X.shape[0], X.shape[1], n_features))\n",
    "X_train = X[:len(y)-4]\n",
    "y_train = y[:len(y)-4]\n",
    "X_test = X[len(y)-4:]\n",
    "y_test = y[len(y)-4:]\n",
    "model = Sequential()\n",
    "model.add(LSTM(50, activation='relu', input_shape=(n_steps, n_features)))\n",
    "model.add(Dense(1))\n",
    "model.compile(optimizer='adam', loss='mse')\n",
    "model.fit(X_train, y_train, epochs=200, verbose=0)\n",
    "predicao = []\n",
    "true_y = []\n",
    "for i in range(0,len(X_test)):\n",
    "\tx_input = X_test[i]\n",
    "\tx_input = np.array(x_input)\n",
    "\ttrue_y.append(y_test[i])\n",
    "\tx_input = x_input.reshape((1, n_steps, n_features))\n",
    "\tyhat = model.predict(x_input, verbose=0)\n",
    "\tpredicao.append(yhat[0][0])"
   ]
  },
  {
   "cell_type": "code",
   "execution_count": 60,
   "metadata": {},
   "outputs": [
    {
     "name": "stdout",
     "output_type": "stream",
     "text": [
      "[41.820484, 36.408783, 34.95389, 20.125048]\n"
     ]
    }
   ],
   "source": [
    "print(predicao)"
   ]
  },
  {
   "cell_type": "code",
   "execution_count": 61,
   "metadata": {},
   "outputs": [
    {
     "name": "stdout",
     "output_type": "stream",
     "text": [
      "RMSE: 913.143948987673\n",
      "MAPE: 13.526380968093873\n"
     ]
    }
   ],
   "source": [
    "from sklearn.metrics import mean_squared_error, mean_absolute_percentage_error\n",
    "print(\"RMSE:\",mean_squared_error(true_y, predicao))\n",
    "print(\"MAPE:\",mean_absolute_percentage_error(true_y, predicao))"
   ]
  },
  {
   "cell_type": "code",
   "execution_count": 62,
   "metadata": {},
   "outputs": [
    {
     "data": {
      "image/png": "[encoded data removed]",
      "text/plain": [
       "<Figure size 640x480 with 1 Axes>"
      ]
     },
     "metadata": {},
     "output_type": "display_data"
    },
    {
     "data": {
      "image/png": "[encoded data removed]",
      "text/plain": [
       "<Figure size 640x480 with 1 Axes>"
      ]
     },
     "metadata": {},
     "output_type": "display_data"
    }
   ],
   "source": [
    "x = [i for i in range(len(true_y))]\n",
    "plt.plot(x,true_y)\n",
    "plt.show()\n",
    "plt.plot(x,predicao)\n",
    "plt.show()"
   ]
  },
  {
   "cell_type": "markdown",
   "metadata": {},
   "source": [
    "3. Construa um regressor e identifique quais variáveis exercem maior impacto sobre o “target” e informe o porquê interpretando os resultados obtidos.\n",
    "    1. métricas: RMSE, R2 e cor(target_observado, target_predito);\n",
    "    2. dados: regression_data.zip."
   ]
  },
  {
   "cell_type": "code",
   "execution_count": 63,
   "metadata": {},
   "outputs": [],
   "source": [
    "treino = pd.read_csv(\"./regression_data/regression_train.csv\")\n",
    "teste = pd.read_csv(\"./regression_data/regression_test.csv\")"
   ]
  },
  {
   "cell_type": "code",
   "execution_count": 64,
   "metadata": {},
   "outputs": [],
   "source": [
    "colunas_numericas = treino.select_dtypes([\"number\"]).columns\n",
    "for col in colunas_numericas:\n",
    "    treino[col].fillna(value=treino[col].mean(), inplace=True)\n",
    "\n",
    "colunas_numericas = teste.select_dtypes([\"number\"]).columns\n",
    "for col in colunas_numericas:\n",
    "    teste[col].fillna(value=teste[col].mean(), inplace=True)"
   ]
  },
  {
   "cell_type": "code",
   "execution_count": 65,
   "metadata": {},
   "outputs": [],
   "source": [
    "X_treino = treino.drop(\"target\",axis=1)\n",
    "Y_treino = treino['target']\n",
    "X_teste = teste.drop('target',axis=1)\n",
    "Y_teste = teste['target']"
   ]
  },
  {
   "cell_type": "code",
   "execution_count": 66,
   "metadata": {},
   "outputs": [
    {
     "data": {
      "text/html": [
       "<div>\n",
       "<style scoped>\n",
       "    .dataframe tbody tr th:only-of-type {\n",
       "        vertical-align: middle;\n",
       "    }\n",
       "\n",
       "    .dataframe tbody tr th {\n",
       "        vertical-align: top;\n",
       "    }\n",
       "\n",
       "    .dataframe thead th {\n",
       "        text-align: right;\n",
       "    }\n",
       "</style>\n",
       "<table border=\"1\" class=\"dataframe\">\n",
       "  <thead>\n",
       "    <tr style=\"text-align: right;\">\n",
       "      <th></th>\n",
       "      <th>X1</th>\n",
       "      <th>X2</th>\n",
       "      <th>X3</th>\n",
       "      <th>X4</th>\n",
       "      <th>X5</th>\n",
       "      <th>X6</th>\n",
       "      <th>X7</th>\n",
       "    </tr>\n",
       "  </thead>\n",
       "  <tbody>\n",
       "    <tr>\n",
       "      <th>0</th>\n",
       "      <td>-0.546168</td>\n",
       "      <td>-0.460781</td>\n",
       "      <td>47.063305</td>\n",
       "      <td>1.611370</td>\n",
       "      <td>-65.882137</td>\n",
       "      <td>0</td>\n",
       "      <td>-16.672865</td>\n",
       "    </tr>\n",
       "    <tr>\n",
       "      <th>1</th>\n",
       "      <td>3.074317</td>\n",
       "      <td>-2.836000</td>\n",
       "      <td>49.396649</td>\n",
       "      <td>0.261998</td>\n",
       "      <td>-66.570716</td>\n",
       "      <td>0</td>\n",
       "      <td>-6.664599</td>\n",
       "    </tr>\n",
       "    <tr>\n",
       "      <th>2</th>\n",
       "      <td>-1.485531</td>\n",
       "      <td>-13.102537</td>\n",
       "      <td>42.367991</td>\n",
       "      <td>3.991558</td>\n",
       "      <td>-67.108014</td>\n",
       "      <td>8</td>\n",
       "      <td>-30.790962</td>\n",
       "    </tr>\n",
       "    <tr>\n",
       "      <th>3</th>\n",
       "      <td>6.907396</td>\n",
       "      <td>-0.308967</td>\n",
       "      <td>57.228787</td>\n",
       "      <td>0.256771</td>\n",
       "      <td>-66.181266</td>\n",
       "      <td>5</td>\n",
       "      <td>-0.726072</td>\n",
       "    </tr>\n",
       "    <tr>\n",
       "      <th>4</th>\n",
       "      <td>1.916788</td>\n",
       "      <td>3.460290</td>\n",
       "      <td>51.703375</td>\n",
       "      <td>2.463790</td>\n",
       "      <td>-65.143663</td>\n",
       "      <td>5</td>\n",
       "      <td>8.131680</td>\n",
       "    </tr>\n",
       "  </tbody>\n",
       "</table>\n",
       "</div>"
      ],
      "text/plain": [
       "         X1         X2         X3        X4         X5  X6         X7\n",
       "0 -0.546168  -0.460781  47.063305  1.611370 -65.882137   0 -16.672865\n",
       "1  3.074317  -2.836000  49.396649  0.261998 -66.570716   0  -6.664599\n",
       "2 -1.485531 -13.102537  42.367991  3.991558 -67.108014   8 -30.790962\n",
       "3  6.907396  -0.308967  57.228787  0.256771 -66.181266   5  -0.726072\n",
       "4  1.916788   3.460290  51.703375  2.463790 -65.143663   5   8.131680"
      ]
     },
     "execution_count": 66,
     "metadata": {},
     "output_type": "execute_result"
    }
   ],
   "source": [
    "X_treino.head(5)"
   ]
  },
  {
   "cell_type": "markdown",
   "metadata": {},
   "source": [
    "Iremos utilizar 2 regressores: 1) Regressor Linear e SVM (Support Vector Machine). Apresentando assim os resultados de ambos."
   ]
  },
  {
   "cell_type": "markdown",
   "metadata": {},
   "source": [
    "1. <b>Regressor Linear</b>"
   ]
  },
  {
   "cell_type": "code",
   "execution_count": 67,
   "metadata": {},
   "outputs": [],
   "source": [
    "from sklearn.linear_model import LinearRegression\n",
    "regressao = LinearRegression().fit(X_treino,Y_treino)\n",
    "pred = regressao.predict(X_teste)"
   ]
  },
  {
   "cell_type": "code",
   "execution_count": 68,
   "metadata": {},
   "outputs": [
    {
     "name": "stdout",
     "output_type": "stream",
     "text": [
      "RMSE: 827255.6670894625\n",
      "R2: 0.2483156335378618\n"
     ]
    }
   ],
   "source": [
    "from sklearn.metrics import mean_squared_error, r2_score\n",
    "print(\"RMSE:\",mean_squared_error(Y_teste, pred))\n",
    "print(\"R2:\",r2_score(Y_teste, pred))"
   ]
  },
  {
   "cell_type": "markdown",
   "metadata": {},
   "source": [
    "Para olharmos quais são os atributos mais impactantes no target, basta olharmos os coeficientes da regressão:"
   ]
  },
  {
   "cell_type": "code",
   "execution_count": 69,
   "metadata": {},
   "outputs": [
    {
     "data": {
      "text/plain": [
       "array([ 37.26579481, 155.25081659,   0.15600164,  -8.97959863,\n",
       "        -4.38505609,  10.70731996,   0.42810471])"
      ]
     },
     "execution_count": 69,
     "metadata": {},
     "output_type": "execute_result"
    }
   ],
   "source": [
    "regressao.coef_"
   ]
  },
  {
   "cell_type": "markdown",
   "metadata": {},
   "source": [
    "Cada coeficiente desses é associado respectivamente a um atributo, sendo assim segue os atributos listados do mais impactante ao menos impactante, acompanhando do coeficiente do atributo"
   ]
  },
  {
   "cell_type": "markdown",
   "metadata": {},
   "source": [
    "1. X2: 155.25;\n",
    "2. X1: 37.26;\n",
    "3. X6: 10.70;\n",
    "4. X7: 0.42;\n",
    "5. X3: 0.15;\n",
    "6. X5: -4,38;\n",
    "7. X4: -8.97;"
   ]
  },
  {
   "cell_type": "markdown",
   "metadata": {},
   "source": [
    "Segue 3 gráficos, 2 com plots individuais entre o target previsto e o real valor do mesmo. Em seguida um plot com ambos presentes no mesmo plano."
   ]
  },
  {
   "cell_type": "code",
   "execution_count": 70,
   "metadata": {},
   "outputs": [
    {
     "data": {
      "image/png": "[encoded data removed]",
      "text/plain": [
       "<Figure size 640x480 with 1 Axes>"
      ]
     },
     "metadata": {},
     "output_type": "display_data"
    },
    {
     "data": {
      "image/png": "[encoded data removed]",
      "text/plain": [
       "<Figure size 640x480 with 1 Axes>"
      ]
     },
     "metadata": {},
     "output_type": "display_data"
    },
    {
     "data": {
      "image/png": "[encoded data removed]",
      "text/plain": [
       "<Figure size 640x480 with 1 Axes>"
      ]
     },
     "metadata": {},
     "output_type": "display_data"
    }
   ],
   "source": [
    "x = [i for i in range(len(teste))]\n",
    "plt.scatter(x,Y_teste, c=\"blue\")\n",
    "plt.show()\n",
    "plt.scatter(x,pred, c=\"orange\")\n",
    "plt.show()\n",
    "plt.scatter(x, Y_teste, c=\"blue\")\n",
    "plt.scatter(x, pred, c=\"orange\")\n",
    "plt.legend([\"Y verdadeiro\",\"Y Pred\"])\n",
    "plt.show()"
   ]
  },
  {
   "cell_type": "markdown",
   "metadata": {},
   "source": [
    "2. <b> SVM (Support Vector Machine) </b>"
   ]
  },
  {
   "cell_type": "code",
   "execution_count": 88,
   "metadata": {},
   "outputs": [],
   "source": [
    "from sklearn.svm import SVR\n",
    "from sklearn.pipeline import Pipeline\n",
    "from sklearn.preprocessing import StandardScaler\n",
    "import numpy as np\n",
    "\n",
    "regr = Pipeline(steps=[('sca',StandardScaler()), ('clf',SVR(kernel='linear'))])\n",
    "regr.fit(X_treino, Y_treino)\n",
    "pred = regr.predict(X_teste)"
   ]
  },
  {
   "cell_type": "code",
   "execution_count": 89,
   "metadata": {},
   "outputs": [
    {
     "name": "stdout",
     "output_type": "stream",
     "text": [
      "RMSE: 1171470.0405652728\n",
      "R2: -0.06445413468101835\n"
     ]
    }
   ],
   "source": [
    "from sklearn.metrics import mean_squared_error, r2_score\n",
    "print(\"RMSE:\",mean_squared_error(Y_teste, pred))\n",
    "print(\"R2:\",r2_score(Y_teste, pred))"
   ]
  },
  {
   "cell_type": "markdown",
   "metadata": {},
   "source": [
    "Para olharmos quais são os atributos mais impactantes no target, basta olharmos os coeficientes da regressão:"
   ]
  },
  {
   "cell_type": "code",
   "execution_count": 90,
   "metadata": {},
   "outputs": [
    {
     "data": {
      "text/plain": [
       "array([[ 0.07913   ,  0.18039199, -0.00029117,  0.0192094 , -0.07542696,\n",
       "         0.04101101, -0.00672136]])"
      ]
     },
     "execution_count": 90,
     "metadata": {},
     "output_type": "execute_result"
    }
   ],
   "source": [
    "regr.named_steps['clf'].coef_"
   ]
  },
  {
   "cell_type": "markdown",
   "metadata": {},
   "source": [
    "Cada coeficiente desses é associado respectivamente a um atributo, sendo assim segue os atributos listados do mais impactante ao menos impactante, acompanhando do coeficiente do atributo"
   ]
  },
  {
   "cell_type": "markdown",
   "metadata": {},
   "source": [
    "1. X2:  0.18;\n",
    "2. X1:  0.07;\n",
    "3. X6:  0.04;\n",
    "4. X4:  0.01;\n",
    "5. X3:  0.00;\n",
    "6. X7:  0.00;\n",
    "7. X5: -0.07;"
   ]
  },
  {
   "cell_type": "markdown",
   "metadata": {},
   "source": [
    "Segue 3 gráficos, 2 com plots individuais entre o target previsto e o real valor do mesmo. Em seguida um plot com ambos presentes no mesmo plano."
   ]
  },
  {
   "cell_type": "code",
   "execution_count": 91,
   "metadata": {},
   "outputs": [
    {
     "data": {
      "image/png": "[encoded data removed]",
      "text/plain": [
       "<Figure size 640x480 with 1 Axes>"
      ]
     },
     "metadata": {},
     "output_type": "display_data"
    },
    {
     "data": {
      "image/png": "[encoded data removed]",
      "text/plain": [
       "<Figure size 640x480 with 1 Axes>"
      ]
     },
     "metadata": {},
     "output_type": "display_data"
    },
    {
     "data": {
      "image/png": "[encoded data removed]",
      "text/plain": [
       "<Figure size 640x480 with 1 Axes>"
      ]
     },
     "metadata": {},
     "output_type": "display_data"
    }
   ],
   "source": [
    "x = [i for i in range(len(teste))]\n",
    "plt.scatter(x,Y_teste, c=\"blue\")\n",
    "plt.show()\n",
    "plt.scatter(x,pred, c=\"orange\")\n",
    "plt.show()\n",
    "plt.scatter(x, Y_teste, c=\"blue\")\n",
    "plt.scatter(x, pred, c=\"orange\")\n",
    "plt.legend([\"Y verdadeiro\",\"Y Pred\"])\n",
    "plt.show()"
   ]
  }
 ],
 "metadata": {
  "kernelspec": {
   "display_name": "Python 3.10.8 64-bit",
   "language": "python",
   "name": "python3"
  },
  "language_info": {
   "codemirror_mode": {
    "name": "ipython",
    "version": 3
   },
   "file_extension": ".py",
   "mimetype": "text/x-python",
   "name": "python",
   "nbconvert_exporter": "python",
   "pygments_lexer": "ipython3",
   "version": "3.10.8"
  },
  "orig_nbformat": 4,
  "vscode": {
   "interpreter": {
    "hash": "5fe3e6f0cdaab8afdc61c52912fda83f7c0a71baaea1897dd7498e2df01e69ec"
   }
  }
 },
 "nbformat": 4,
 "nbformat_minor": 2
}
